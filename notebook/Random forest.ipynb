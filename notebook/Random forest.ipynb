{
 "cells": [
  {
   "cell_type": "code",
   "execution_count": 1,
   "metadata": {
    "collapsed": true
   },
   "outputs": [],
   "source": [
    "import numpy as np\n",
    "import pandas as pd\n",
    "from sklearn import cross_validation\n",
    "from sklearn.ensemble import RandomForestClassifier"
   ]
  },
  {
   "cell_type": "markdown",
   "metadata": {},
   "source": [
    "## Crossvalidate"
   ]
  },
  {
   "cell_type": "code",
   "execution_count": 3,
   "metadata": {
    "collapsed": false
   },
   "outputs": [
    {
     "name": "stdout",
     "output_type": "stream",
     "text": [
      "Score: 0.967143\n"
     ]
    }
   ],
   "source": [
    "train = pd.read_csv('../data/train.csv')\n",
    "(cv_train, cv_test) = cross_validation.train_test_split(train, train_size=0.75)\n",
    "train_labels = cv_train['label']\n",
    "cv_train = cv_train.drop('label', 1)\n",
    "test_labels = cv_test['label']\n",
    "cv_test = cv_test.drop('label', 1)\n",
    "\n",
    "clf = RandomForestClassifier(n_estimators=1000)\n",
    "classifier = clf.fit(cv_train, train_labels)\n",
    "y = classifier.predict(cv_test)\n",
    "score = np.equal(test_labels, y).sum()/len(cv_test)\n",
    "print(\"Score: %f\" % score)"
   ]
  },
  {
   "cell_type": "markdown",
   "metadata": {},
   "source": [
    "## Prepare submission"
   ]
  },
  {
   "cell_type": "code",
   "execution_count": 37,
   "metadata": {
    "collapsed": false
   },
   "outputs": [],
   "source": [
    "train = pd.read_csv('../data/train.csv')\n",
    "labels = train['label']\n",
    "train = train.drop('label', 1)\n",
    "test = pd.read_csv('../data/test.csv')\n",
    "clf = RandomForestClassifier(n_estimators=10)\n",
    "classifier = clf.fit(train, labels)\n",
    "y = classifier.predict(test)\n",
    "solution = pd.DataFrame({'ImageId': np.arange(1,len(test)+1), 'Label': y})\n",
    "solution.to_csv('../data/solution.csv', index=False)"
   ]
  }
 ],
 "metadata": {
  "kernelspec": {
   "display_name": "Python 3",
   "language": "python",
   "name": "python3"
  },
  "language_info": {
   "codemirror_mode": {
    "name": "ipython",
    "version": 3
   },
   "file_extension": ".py",
   "mimetype": "text/x-python",
   "name": "python",
   "nbconvert_exporter": "python",
   "pygments_lexer": "ipython3",
   "version": "3.4.3"
  }
 },
 "nbformat": 4,
 "nbformat_minor": 0
}
